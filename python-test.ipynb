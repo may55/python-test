{
 "cells": [
  {
   "cell_type": "code",
   "execution_count": null,
   "metadata": {},
   "outputs": [],
   "source": [
    "#import required packages\n",
    "from datetime import date,timedelta\n",
    "from nsepy import get_history\n",
    "import numpy as np\n",
    "import pandas as pd\n",
    "from pandas import datetime"
   ]
  },
  {
   "cell_type": "code",
   "execution_count": null,
   "metadata": {},
   "outputs": [],
   "source": [
    "# collecting data of 1 year starting from 2015-01-01 from nsepy\n",
    "\n",
    "number_of_days = 365\n",
    "strt = date(2015,1,1)\n",
    "ends = strt+timedelta(days=number_of_days)\n",
    "SBIN = get_history(symbol='sbin',\n",
    "                    start= strt,\n",
    "                    end=ends)\n",
    "TCS = get_history(symbol='TCS',\n",
    "                    start= strt,\n",
    "                    end=ends)\n",
    "INFY = get_history(symbol='INFY',\n",
    "                    start= strt,\n",
    "                    end=ends)"
   ]
  },
  {
   "cell_type": "code",
   "execution_count": null,
   "metadata": {},
   "outputs": [],
   "source": [
    "SBIN.head()"
   ]
  },
  {
   "cell_type": "code",
   "execution_count": null,
   "metadata": {},
   "outputs": [],
   "source": [
    "TCS.head()"
   ]
  },
  {
   "cell_type": "code",
   "execution_count": null,
   "metadata": {},
   "outputs": [],
   "source": [
    "INFY.head()"
   ]
  },
  {
   "cell_type": "code",
   "execution_count": null,
   "metadata": {},
   "outputs": [],
   "source": [
    "# resetting index of each data set\n",
    "SBIN = SBIN.reset_index()\n",
    "TCS = TCS.reset_index()\n",
    "INFY = INFY.reset_index()\n",
    "SBIN[\"Date\"] = pd.to_datetime(SBIN[\"Date\"])\n",
    "TCS[\"Date\"] = pd.to_datetime(TCS[\"Date\"])\n",
    "INFY[\"Date\"] = pd.to_datetime(INFY[\"Date\"])\n",
    "SBIN.name = 'SBIN'\n",
    "TCS.name = 'TCS'\n",
    "INFY.name = 'INFY'\n",
    "stock_data = [SBIN, TCS, INFY]"
   ]
  },
  {
   "cell_type": "code",
   "execution_count": null,
   "metadata": {},
   "outputs": [],
   "source": [
    "def assign_index(stock):\n",
    "    stock.index = stock['Date']\n",
    "    return stock"
   ]
  },
  {
   "cell_type": "code",
   "execution_count": null,
   "metadata": {},
   "outputs": [],
   "source": [
    "SBIN = assign_index(SBIN)\n",
    "TCS = assign_index(TCS)\n",
    "INFY = assign_index(INFY)"
   ]
  },
  {
   "cell_type": "code",
   "execution_count": null,
   "metadata": {},
   "outputs": [],
   "source": [
    "stocks = [SBIN,TCS,INFY]"
   ]
  },
  {
   "cell_type": "code",
   "execution_count": null,
   "metadata": {},
   "outputs": [],
   "source": [
    "#importing plot library\n",
    "\n",
    "import matplotlib.pyplot as plt\n",
    "%matplotlib inline\n",
    "# Control the default size of figures in this Jupyter notebook\n",
    "%pylab inline\n",
    "pylab.rcParams['figure.figsize'] = (20, 12)"
   ]
  },
  {
   "cell_type": "markdown",
   "metadata": {},
   "source": [
    "# Part -1 \n",
    "### 1. Create 4,16,....,52 week moving average(closing price) for each stock and index. This should happen through a function.)"
   ]
  },
  {
   "cell_type": "code",
   "execution_count": null,
   "metadata": {},
   "outputs": [],
   "source": [
    "#Moving average implementation\n",
    "\n",
    "def moving_average(values,size):\n",
    "    weights = np.repeat(1.0, size)/size\n",
    "    smas = np.convolve(values,weights,'valid')\n",
    "    print(type(smas))\n",
    "    return smas"
   ]
  },
  {
   "cell_type": "code",
   "execution_count": null,
   "metadata": {},
   "outputs": [],
   "source": [
    "def moving_average_PLOT(stock):\n",
    "    # weeks size\n",
    "    size_arr = [4,16,28,40,52]\n",
    "    \n",
    "    moving_avg = {}\n",
    "        \n",
    "    # Line chart for each graph\n",
    "    plt.title(\"Moving average for \"+stock.name,fontsize=20)\n",
    "    # Original closing price as -- line\n",
    "    plt.plot(stock[\"Date\"],stock[\"Close\"],label=\"Closing pricing\",linestyle='--',linewidth=2)\n",
    "    \n",
    "    for i in range(len(size_arr)):\n",
    "        # dummy size array 'a' to resize the frame with original size\n",
    "        a = [None for i in range(size_arr[i]-1)]\n",
    "        a = np.array(a)\n",
    "        # merging both the array dummy and moving_average\n",
    "        moving_avg[size_arr[i]] = np.hstack([a,moving_average(stock[\"Close\"],size_arr[i])])\n",
    "        \n",
    "        stock[str(size_arr[i])+\"_moving_avg\"] = moving_avg[size_arr[i]]\n",
    "        \n",
    "        name = \"Moving average for \"+str(size_arr[i])+\" weeks\"\n",
    "        print(name + \"is as follow :\")\n",
    "        print(stock[str(size_arr[i])+\"_moving_avg\"])\n",
    "        plt.plot(stock[\"Date\"],moving_avg[size_arr[i]],label = name,linewidth=2)\n",
    "        \n",
    "    plt.legend(title = \"Legends\",loc = 3,prop={'size': 12})\n",
    "    plt.show()"
   ]
  },
  {
   "cell_type": "code",
   "execution_count": null,
   "metadata": {},
   "outputs": [],
   "source": [
    "moving_average_PLOT(SBIN)\n",
    "    "
   ]
  },
  {
   "cell_type": "code",
   "execution_count": null,
   "metadata": {},
   "outputs": [],
   "source": [
    "moving_average_PLOT(TCS)"
   ]
  },
  {
   "cell_type": "code",
   "execution_count": null,
   "metadata": {},
   "outputs": [],
   "source": [
    "moving_average_PLOT(INFY)"
   ]
  },
  {
   "cell_type": "markdown",
   "metadata": {},
   "source": [
    "### 2.Create rolling window of size 10 on each stock/index. Handle unequal time series due to stock market holidays. You should look to increase your rolling window size to 75 and see how the data looks like. Remember they will create stress on your laptop RAM load."
   ]
  },
  {
   "cell_type": "code",
   "execution_count": null,
   "metadata": {},
   "outputs": [],
   "source": [
    "def rolling_window(stock):\n",
    "    plt.title(\"Moving average with inbuilt function on\" + stock.name,fontsize = 15)\n",
    "    plt.plot(stock[\"Close\"],label=\"Original closing Price\")\n",
    "    rolling_size = [\"10\",\"25\",\"50\",\"75\"]\n",
    "    for i in range(len(rolling_size)):\n",
    "        temp_name = str(rolling_size[i])+\" rolling window\"\n",
    "        stock[temp_name] = np.round(stock[\"Close\"].rolling(window = int(rolling_size[i]), center = False).mean(), 2)\n",
    "        text = \"Rolling window of size : \"+rolling_size[i]\n",
    "        print(text)\n",
    "        print(stock[temp_name])\n",
    "        plt.plot(stock[temp_name],label=text)\n",
    "    plt.legend(title = \"Legends\",loc = 3,prop={'size': 12})\n",
    "    plt.show()"
   ]
  },
  {
   "cell_type": "code",
   "execution_count": null,
   "metadata": {},
   "outputs": [],
   "source": [
    "rolling_window(SBIN)\n",
    "# starting values are NaN as rolling window is calculating 'valid' average."
   ]
  },
  {
   "cell_type": "markdown",
   "metadata": {},
   "source": [
    " ### 3.1 Volume shocks"
   ]
  },
  {
   "cell_type": "markdown",
   "metadata": {},
   "source": [
    "#### 0/1 boolean time series for shock"
   ]
  },
  {
   "cell_type": "code",
   "execution_count": null,
   "metadata": {},
   "outputs": [],
   "source": [
    "# making a extra column as we need to compare with previous day's volume\n",
    "SBIN[\"prev_day\"] = SBIN.Volume.shift(1)\n",
    "TCS[\"prev_day\"] = TCS.Volume.shift(1)\n",
    "INFY[\"prev_day\"] = INFY.Volume.shift(1)"
   ]
  },
  {
   "cell_type": "code",
   "execution_count": null,
   "metadata": {},
   "outputs": [],
   "source": [
    "# Calculating volume shock\n",
    "SBIN[\"Volume_Shock\"] = ((((abs(SBIN[\"prev_day\"]-SBIN[\"Volume\"]))/SBIN[\"Volume\"])*100)>10).astype(int)\n",
    "print(SBIN[\"Volume_Shock\"])"
   ]
  },
  {
   "cell_type": "code",
   "execution_count": null,
   "metadata": {},
   "outputs": [],
   "source": [
    "TCS[\"Volume_Shock\"] = ((((abs(TCS[\"prev_day\"]-TCS[\"Volume\"]))/TCS[\"Volume\"])*100)>10).astype(int)\n",
    "print(TCS[\"Volume_Shock\"])"
   ]
  },
  {
   "cell_type": "code",
   "execution_count": null,
   "metadata": {},
   "outputs": [],
   "source": [
    "INFY[\"Volume_Shock\"] = ((((abs(INFY[\"prev_day\"]-INFY[\"Volume\"]))/INFY[\"Volume\"])*100)>10).astype(int)\n",
    "print(INFY[\"Volume_Shock\"])"
   ]
  },
  {
   "cell_type": "markdown",
   "metadata": {},
   "source": [
    "#### 0/1 dummy-coded time series for direction of shock"
   ]
  },
  {
   "cell_type": "code",
   "execution_count": null,
   "metadata": {},
   "outputs": [],
   "source": [
    "# Calculating direction volume shock for each share\n",
    "def direction_shock(stock_name):\n",
    "    if(stock_name[\"Volume_Shock\"]==1):\n",
    "        if(stock_name[\"Volume\"]-stock_name[\"prev_day\"]>0):\n",
    "            return 1\n",
    "        else:\n",
    "            return 0\n",
    "    else:\n",
    "        return \"NaN\""
   ]
  },
  {
   "cell_type": "code",
   "execution_count": null,
   "metadata": {},
   "outputs": [],
   "source": [
    "# putting NaN where volume shock is 0\n",
    "SBIN[\"dir_shock\"] = 'NaN'\n",
    "SBIN[\"dir_shock\"] = SBIN.apply(direction_shock,axis=1)\n",
    "print(SBIN[\"dir_shock\"])"
   ]
  },
  {
   "cell_type": "code",
   "execution_count": null,
   "metadata": {},
   "outputs": [],
   "source": [
    "# putting NaN where volume shock is 0\n",
    "TCS[\"dir_shock\"] = 'NaN'\n",
    "TCS[\"dir_shock\"] = TCS.apply(direction_shock,axis=1)\n",
    "print(TCS[\"dir_shock\"])"
   ]
  },
  {
   "cell_type": "code",
   "execution_count": null,
   "metadata": {},
   "outputs": [],
   "source": [
    "# putting NaN where volume shock is 0\n",
    "INFY[\"dir_shock\"] = 'NaN'\n",
    "INFY[\"dir_shock\"] = INFY.apply(direction_shock,axis=1)\n",
    "print(INFY[\"dir_shock\"])"
   ]
  },
  {
   "cell_type": "markdown",
   "metadata": {},
   "source": [
    " ### 3.1 Price shocks and Price black swan(same)"
   ]
  },
  {
   "cell_type": "markdown",
   "metadata": {},
   "source": [
    "#### 0/1 boolean time series for shock"
   ]
  },
  {
   "cell_type": "code",
   "execution_count": null,
   "metadata": {},
   "outputs": [],
   "source": [
    "#extra column for previous day closing price\n",
    "SBIN[\"prev_day_close\"] = SBIN.Close.shift(-1)\n",
    "TCS[\"prev_day_close\"] = TCS.Close.shift(-1)\n",
    "INFY[\"prev_day_close\"] = INFY.Close.shift(-1)\n"
   ]
  },
  {
   "cell_type": "code",
   "execution_count": null,
   "metadata": {},
   "outputs": [],
   "source": [
    "SBIN[\"Close_price_shock\"] = ((((abs(SBIN[\"prev_day_close\"]-SBIN[\"Close\"]))/SBIN[\"Close\"])*100)>2).astype(int)\n",
    "print(SBIN[\"Close_price_shock\"])"
   ]
  },
  {
   "cell_type": "code",
   "execution_count": null,
   "metadata": {},
   "outputs": [],
   "source": [
    "TCS[\"Close_price_shock\"] = ((((abs(TCS[\"prev_day_close\"]-TCS[\"Close\"]))/TCS[\"Close\"])*100)>2).astype(int)\n",
    "print(TCS[\"Close_price_shock\"])"
   ]
  },
  {
   "cell_type": "code",
   "execution_count": null,
   "metadata": {},
   "outputs": [],
   "source": [
    "INFY[\"Close_price_shock\"] = ((((abs(INFY[\"prev_day_close\"]-INFY[\"Close\"]))/INFY[\"Close\"])*100)>2).astype(int)\n",
    "print(INFY[\"Close_price_shock\"])"
   ]
  },
  {
   "cell_type": "markdown",
   "metadata": {},
   "source": [
    "#### 0/1 dummy-coded time series for direction of shock"
   ]
  },
  {
   "cell_type": "code",
   "execution_count": null,
   "metadata": {},
   "outputs": [],
   "source": [
    "def direction_close_shock(stock_name):\n",
    "    if(stock_name[\"Close_price_shock\"]==1):\n",
    "        if(stock_name[\"Close\"]-stock_name[\"prev_day_close\"]>0):\n",
    "            return 1\n",
    "        else:\n",
    "            return 0\n",
    "    else:\n",
    "        return \"Nan\""
   ]
  },
  {
   "cell_type": "code",
   "execution_count": null,
   "metadata": {},
   "outputs": [],
   "source": [
    "SBIN[\"dir_shock_price\"] = 'Nan'\n",
    "SBIN[\"dir_shock_price\"] = SBIN.apply(direction_close_shock,axis=1)\n",
    "print(SBIN[\"dir_shock_price\"])"
   ]
  },
  {
   "cell_type": "code",
   "execution_count": null,
   "metadata": {},
   "outputs": [],
   "source": [
    "TCS[\"dir_shock_price\"] = 'Nan'\n",
    "TCS[\"dir_shock_price\"] = TCS.apply(direction_close_shock,axis=1)\n",
    "print(TCS[\"dir_shock_price\"])"
   ]
  },
  {
   "cell_type": "code",
   "execution_count": null,
   "metadata": {},
   "outputs": [],
   "source": [
    "INFY[\"dir_shock_price\"] = 'Nan'\n",
    "INFY[\"dir_shock_price\"] = INFY.apply(direction_close_shock,axis=1)\n",
    "print(INFY[\"dir_shock_price\"])"
   ]
  },
  {
   "cell_type": "markdown",
   "metadata": {},
   "source": [
    "### Pricing shock without volume shock"
   ]
  },
  {
   "cell_type": "code",
   "execution_count": null,
   "metadata": {},
   "outputs": [],
   "source": [
    "SBIN[\"notVolShock\"]  = (~(SBIN[\"Volume_Shock\"].astype(bool))).astype(int)\n",
    "SBIN[\"Pshock_w/o_volShock\"] =  (SBIN[\"notVolShock\"] & SBIN[\"dir_shock_price\"]).astype(int)\n",
    "print(SBIN[\"Pshock_w/o_volShock\"])"
   ]
  },
  {
   "cell_type": "code",
   "execution_count": null,
   "metadata": {},
   "outputs": [],
   "source": [
    "TCS[\"notVolShock\"]  = (~(TCS[\"Volume_Shock\"].astype(bool))).astype(int)\n",
    "TCS[\"Pshock_w/o_volShock\"] =  (TCS[\"notVolShock\"] & TCS[\"dir_shock_price\"]).astype(int)\n",
    "print(TCS[\"Pshock_w/o_volShock\"])"
   ]
  },
  {
   "cell_type": "code",
   "execution_count": null,
   "metadata": {},
   "outputs": [],
   "source": [
    "INFY[\"notVolShock\"]  = (~(INFY[\"Volume_Shock\"].astype(bool))).astype(int)\n",
    "INFY[\"Pshock_w/o_volShock\"] =  (INFY[\"notVolShock\"] & INFY[\"dir_shock_price\"]).astype(int)\n",
    "print(INFY[\"Pshock_w/o_volShock\"])"
   ]
  },
  {
   "cell_type": "markdown",
   "metadata": {},
   "source": [
    "# Part 2 (data visualization ):"
   ]
  },
  {
   "cell_type": "code",
   "execution_count": null,
   "metadata": {},
   "outputs": [],
   "source": [
    "# Importing plotting libraries\n",
    "from bokeh.plotting import figure, show, output_file, output_notebook\n",
    "from bokeh.palettes import Spectral11, colorblind, Inferno, BuGn, brewer,GnBu,Blues\n",
    "from bokeh.models import HoverTool, value, LabelSet, Legend, ColumnDataSource,LinearColorMapper,BasicTicker, PrintfTickFormatter, ColorBar\n"
   ]
  },
  {
   "cell_type": "code",
   "execution_count": null,
   "metadata": {},
   "outputs": [],
   "source": [
    "output_notebook()"
   ]
  },
  {
   "cell_type": "code",
   "execution_count": null,
   "metadata": {},
   "outputs": [],
   "source": [
    "def bokeh_visuals(stock):\n",
    "    fig = figure(x_axis_type=\"datetime\")\n",
    "    fig.line(stock.index, stock['Close'], color='blue', alpha=0.5)\n",
    "\n",
    "    # fig.line(sbin.index[2:10],sbin['Close'],color='red',alpha=0.5)\n",
    "    # flag = False\n",
    "    # last_i = 0\n",
    "    # segments = []\n",
    "    # for i in range(len(sbin[\"Volume_Shock\"])):\n",
    "    #     if(sbin[\"Volume_Shock\"][i] and flag):\n",
    "    # #         fig.line(sbin.index[last_i:i], sbin['Close'], color='red', alpha=0.5)\n",
    "    #         segments.append((last_i,i))\n",
    "    #         flag = False\n",
    "    #     elif(sbin[\"Volume_Shock\"][i]):\n",
    "    #         last_i = i\n",
    "    #         flag = True\n",
    "    # fig.segment(x0=sbin[\"Close\"],x1=sbin[\"Close\"],y0=segments[0],y1=segments[1])\n",
    "    fig.circle(stock.index, stock.Close*stock[\"Pshock_w/o_volShock\"], size=4, legend='price shock without vol shock')\n",
    "    show(fig)"
   ]
  },
  {
   "cell_type": "code",
   "execution_count": null,
   "metadata": {},
   "outputs": [],
   "source": [
    "bokeh_visuals(SBIN)"
   ]
  },
  {
   "cell_type": "code",
   "execution_count": null,
   "metadata": {},
   "outputs": [],
   "source": [
    "bokeh_visuals(TCS)"
   ]
  },
  {
   "cell_type": "code",
   "execution_count": null,
   "metadata": {},
   "outputs": [],
   "source": [
    "bokeh_visuals(INFY)"
   ]
  },
  {
   "cell_type": "code",
   "execution_count": null,
   "metadata": {},
   "outputs": [],
   "source": [
    "from statsmodels.tsa.stattools import acf, pacf\n",
    "\n",
    "def draw_pacf(stock):\n",
    "    \n",
    "    lags = 50\n",
    "\n",
    "    x = list(range(lags))\n",
    "\n",
    "    p = figure(plot_height=500, title=\"Partial Autocorrelation PLot {}\" .format(\"SBIN\"))\n",
    "\n",
    "    partial_autocorr = pacf(stock[\"Close\"], nlags=lags)\n",
    "    p.vbar(x=x, top=partial_autocorr, width=0.9)\n",
    "    show(p)"
   ]
  },
  {
   "cell_type": "code",
   "execution_count": null,
   "metadata": {},
   "outputs": [],
   "source": [
    "draw_pacf(SBIN)"
   ]
  },
  {
   "cell_type": "code",
   "execution_count": null,
   "metadata": {},
   "outputs": [],
   "source": [
    "draw_pacf(TCS)"
   ]
  },
  {
   "cell_type": "code",
   "execution_count": null,
   "metadata": {},
   "outputs": [],
   "source": [
    "draw_pacf(INFY)"
   ]
  },
  {
   "cell_type": "code",
   "execution_count": null,
   "metadata": {},
   "outputs": [],
   "source": []
  }
 ],
 "metadata": {
  "kernelspec": {
   "display_name": "Python 3",
   "language": "python",
   "name": "python3"
  },
  "language_info": {
   "codemirror_mode": {
    "name": "ipython",
    "version": 3
   },
   "file_extension": ".py",
   "mimetype": "text/x-python",
   "name": "python",
   "nbconvert_exporter": "python",
   "pygments_lexer": "ipython3",
   "version": "3.6.4"
  }
 },
 "nbformat": 4,
 "nbformat_minor": 2
}
